{
 "cells": [
  {
   "cell_type": "code",
   "execution_count": 6,
   "metadata": {},
   "outputs": [
    {
     "name": "stdout",
     "output_type": "stream",
     "text": [
      "In sequence 4.702236890792847\n",
      "With threads 1.6948387622833252\n"
     ]
    }
   ],
   "source": [
    "import asyncio\n",
    "import time\n",
    "import requests\n",
    "\n",
    "\n",
    "def in_sequence():\n",
    "    for i in range(20):\n",
    "        requests.get('https://www.example.com')\n",
    "\n",
    "\n",
    "async def with_threads():\n",
    "    def make_request(): requests.get('https://www.example.com')\n",
    "    reqs = [asyncio.to_thread(make_request) for _ in range(20)]\n",
    "    await asyncio.gather(*reqs)\n",
    "\n",
    "\n",
    "async def main():\n",
    "    sequence_start = time.time()\n",
    "    in_sequence()\n",
    "    sequence_end = time.time()\n",
    "    print(f'In sequence {sequence_end - sequence_start}')\n",
    "\n",
    "    thread_start = time.time()\n",
    "    await with_threads()\n",
    "    thread_end = time.time()\n",
    "    print(f'With threads {thread_end - thread_start}')\n",
    "\n",
    "\n",
    "asyncio.run(main())"
   ]
  },
  {
   "cell_type": "code",
   "execution_count": 14,
   "metadata": {},
   "outputs": [],
   "source": [
    "import pytest\n",
    "\n",
    "# Define a fixture\n",
    "@pytest.fixture\n",
    "def sample_data():\n",
    "    return {\"key\": \"value\"}\n",
    "\n",
    "# Use the fixture in a test\n",
    "def test_sample(sample_data):\n",
    "    print(f\"sample_data is {sample_data}\")\n",
    "    assert sample_data[\"key\"] == \"value\"\n"
   ]
  },
  {
   "cell_type": "code",
   "execution_count": null,
   "metadata": {},
   "outputs": [
    {
     "ename": "",
     "evalue": "",
     "output_type": "error",
     "traceback": [
      "\u001b[1;31mRunning cells with 'Python 3.10.11' requires the ipykernel package.\n",
      "\u001b[1;31mRun the following command to install 'ipykernel' into the Python environment. \n",
      "\u001b[1;31mCommand: 'c:/app/Python310/python.exe -m pip install ipykernel -U --user --force-reinstall'"
     ]
    }
   ],
   "source": [
    "# SuperFastPython.com\n",
    "# get the http status of a webpage\n",
    "import asyncio\n",
    "\n",
    "# main coroutine\n",
    "async def main():\n",
    "    # define the url details\n",
    "    host, port, path = 'www.google.com', 443, '/'\n",
    "    # open the connection\n",
    "    reader, writer = await asyncio.open_connection(host, port, ssl=True)\n",
    "    # send GET request\n",
    "    query = f'GET {path} HTTP/1.1\\r\\nHost: {host}\\r\\n\\r\\n'\n",
    "    # encode the query as bytes and send to server\n",
    "    writer.write(query.encode())\n",
    "    # wait for the bytes to be written to the socket\n",
    "    await writer.drain()\n",
    "    # read the single line response\n",
    "    response = await reader.readline()\n",
    "    # decode the bytes into a string and strip white space\n",
    "    status = response.decode().strip()\n",
    "    # report the status\n",
    "    print(status)\n",
    "    # close the socket connection\n",
    "    writer.close()\n",
    "\n",
    "# run the asyncio program\n",
    "#asyncio.run(main())\n",
    "await main()"
   ]
  }
 ],
 "metadata": {
  "kernelspec": {
   "display_name": "Python 3",
   "language": "python",
   "name": "python3"
  },
  "language_info": {
   "codemirror_mode": {
    "name": "ipython",
    "version": 3
   },
   "file_extension": ".py",
   "mimetype": "text/x-python",
   "name": "python",
   "nbconvert_exporter": "python",
   "pygments_lexer": "ipython3",
   "version": "3.10.11"
  }
 },
 "nbformat": 4,
 "nbformat_minor": 2
}
