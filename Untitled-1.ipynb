{
 "cells": [
  {
   "cell_type": "code",
   "execution_count": 6,
   "metadata": {},
   "outputs": [
    {
     "name": "stdout",
     "output_type": "stream",
     "text": [
      "In sequence 4.702236890792847\n",
      "With threads 1.6948387622833252\n"
     ]
    }
   ],
   "source": [
    "import asyncio\n",
    "import time\n",
    "import requests\n",
    "\n",
    "\n",
    "def in_sequence():\n",
    "    for i in range(20):\n",
    "        requests.get('https://www.example.com')\n",
    "\n",
    "\n",
    "async def with_threads():\n",
    "    def make_request(): requests.get('https://www.example.com')\n",
    "    reqs = [asyncio.to_thread(make_request) for _ in range(20)]\n",
    "    await asyncio.gather(*reqs)\n",
    "\n",
    "\n",
    "async def main():\n",
    "    sequence_start = time.time()\n",
    "    in_sequence()\n",
    "    sequence_end = time.time()\n",
    "    print(f'In sequence {sequence_end - sequence_start}')\n",
    "\n",
    "    thread_start = time.time()\n",
    "    await with_threads()\n",
    "    thread_end = time.time()\n",
    "    print(f'With threads {thread_end - thread_start}')\n",
    "\n",
    "\n",
    "asyncio.run(main())"
   ]
  },
  {
   "cell_type": "code",
   "execution_count": 14,
   "metadata": {},
   "outputs": [],
   "source": [
    "import pytest\n",
    "\n",
    "# Define a fixture\n",
    "@pytest.fixture\n",
    "def sample_data():\n",
    "    return {\"key\": \"value\"}\n",
    "\n",
    "# Use the fixture in a test\n",
    "def test_sample(sample_data):\n",
    "    print(f\"sample_data is {sample_data}\")\n",
    "    assert sample_data[\"key\"] == \"value\"\n"
   ]
  }
 ],
 "metadata": {
  "kernelspec": {
   "display_name": ".venv",
   "language": "python",
   "name": "python3"
  },
  "language_info": {
   "codemirror_mode": {
    "name": "ipython",
    "version": 3
   },
   "file_extension": ".py",
   "mimetype": "text/x-python",
   "name": "python",
   "nbconvert_exporter": "python",
   "pygments_lexer": "ipython3",
   "version": "3.13.0"
  }
 },
 "nbformat": 4,
 "nbformat_minor": 2
}
