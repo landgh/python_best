{
 "cells": [
  {
   "cell_type": "code",
   "execution_count": 6,
   "metadata": {},
   "outputs": [
    {
     "name": "stdout",
     "output_type": "stream",
     "text": [
      "In sequence 4.702236890792847\n",
      "With threads 1.6948387622833252\n"
     ]
    }
   ],
   "source": [
    "import asyncio\n",
    "import time\n",
    "import requests\n",
    "\n",
    "\n",
    "def in_sequence():\n",
    "    for i in range(20):\n",
    "        requests.get('https://www.example.com')\n",
    "\n",
    "\n",
    "async def with_threads():\n",
    "    def make_request(): requests.get('https://www.example.com')\n",
    "    reqs = [asyncio.to_thread(make_request) for _ in range(20)]\n",
    "    await asyncio.gather(*reqs)\n",
    "\n",
    "\n",
    "async def main():\n",
    "    sequence_start = time.time()\n",
    "    in_sequence()\n",
    "    sequence_end = time.time()\n",
    "    print(f'In sequence {sequence_end - sequence_start}')\n",
    "\n",
    "    thread_start = time.time()\n",
    "    await with_threads()\n",
    "    thread_end = time.time()\n",
    "    print(f'With threads {thread_end - thread_start}')\n",
    "\n",
    "\n",
    "asyncio.run(main())"
   ]
  },
  {
   "cell_type": "code",
   "execution_count": 14,
   "metadata": {},
   "outputs": [],
   "source": [
    "import pytest\n",
    "\n",
    "# Define a fixture\n",
    "@pytest.fixture\n",
    "def sample_data():\n",
    "    return {\"key\": \"value\"}\n",
    "\n",
    "# Use the fixture in a test\n",
    "def test_sample(sample_data):\n",
    "    print(f\"sample_data is {sample_data}\")\n",
    "    assert sample_data[\"key\"] == \"value\"\n"
   ]
  },
  {
   "cell_type": "code",
   "execution_count": null,
   "metadata": {},
   "outputs": [],
   "source": [
    "# SuperFastPython.com\n",
    "# get the http status of a webpage\n",
    "import asyncio\n",
    "\n",
    "# main coroutine\n",
    "async def main():\n",
    "    # define the url details\n",
    "    host, port, path = 'www.google.com', 443, '/'\n",
    "    # open the connection\n",
    "    reader, writer = await asyncio.open_connection(host, port, ssl=True)\n",
    "    # send GET request\n",
    "    query = f'GET {path} HTTP/1.1\\r\\nHost: {host}\\r\\n\\r\\n'\n",
    "    # encode the query as bytes and send to server\n",
    "    writer.write(query.encode())\n",
    "    # wait for the bytes to be written to the socket\n",
    "    await writer.drain()\n",
    "    # read the single line response\n",
    "    response = await reader.readline()\n",
    "    # decode the bytes into a string and strip white space\n",
    "    status = response.decode().strip()\n",
    "    # report the status\n",
    "    print(status)\n",
    "    # close the socket connection\n",
    "    writer.close()\n",
    "\n",
    "# run the asyncio program\n",
    "#asyncio.run(main())\n",
    "await main()"
   ]
  },
  {
   "cell_type": "code",
   "execution_count": 15,
   "metadata": {},
   "outputs": [
    {
     "name": "stdout",
     "output_type": "stream",
     "text": [
      "{'name': 'Alice', 'age': 30} {'name': 'Bob', 'age': 25}\n",
      "{'name': 'Alice', 'age': 30} {'name': 'Bob', 'age': 25}\n",
      "[{'name': 'Alice', 'age': 30}, {'name': 'Bob', 'age': 25}]\n"
     ]
    }
   ],
   "source": [
    "data = [{\"name\": \"Alice\", \"age\": 30}, {\"name\": \"Bob\", \"age\": 25}]\n",
    "\n",
    "# Unpacking into variables\n",
    "a, b = data\n",
    "print(a, b)  # Output: name age\n",
    "print(*data)\n",
    "print(data)\n",
    "for item in data:\n",
    "    for key, value in item.items():\n",
    "        print(f'{key}: {value}')\n",
    "\n"
   ]
  },
  {
   "cell_type": "code",
   "execution_count": null,
   "metadata": {},
   "outputs": [],
   "source": [
    "import solara\n",
    "import pandas as pd\n",
    "\n",
    "# Sample data\n",
    "data = {\n",
    "    'Name': ['Alice', 'Bob', 'Charlie'],\n",
    "    'Age': [24, 27, 22],\n",
    "    'City': ['New York', 'Los Angeles', 'Chicago']\n",
    "}\n",
    "\n",
    "# Create a DataFrame\n",
    "df = pd.DataFrame(data)\n",
    "\n",
    "# Define a Solara component to display the DataTable\n",
    "@solara.component\n",
    "def DataTable():\n",
    "    solara.DataTable(df)\n",
    "\n",
    "# Run the Solara app\n",
    "#if __name__ == \"__main__\":\n",
    "#    solara.App(DataTable).run(port=8765)"
   ]
  }
 ],
 "metadata": {
  "kernelspec": {
   "display_name": ".venv",
   "language": "python",
   "name": "python3"
  },
  "language_info": {
   "codemirror_mode": {
    "name": "ipython",
    "version": 3
   },
   "file_extension": ".py",
   "mimetype": "text/x-python",
   "name": "python",
   "nbconvert_exporter": "python",
   "pygments_lexer": "ipython3",
   "version": "3.13.0"
  }
 },
 "nbformat": 4,
 "nbformat_minor": 2
}
